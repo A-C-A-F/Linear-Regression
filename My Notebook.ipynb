{
 "cells": [
  {
   "cell_type": "markdown",
   "metadata": {},
   "source": [
    "# Linear Regression using Python"
   ]
  },
  {
   "cell_type": "markdown",
   "metadata": {
    "tags": []
   },
   "source": [
    "### Task 1: Introduction"
   ]
  },
  {
   "cell_type": "code",
   "execution_count": 1,
   "metadata": {},
   "outputs": [],
   "source": [
    "%matplotlib inline\n",
    "\n",
    "import numpy as np\n",
    "import matplotlib.pyplot as plt"
   ]
  },
  {
   "cell_type": "markdown",
   "metadata": {},
   "source": [
    "### Task 2: Dataset\n",
    "\n",
    "Let's say we are working as a real estate agent, and one of our tasks\n",
    "is to estimate the price of houses, given some information\n",
    "about those houses. Over the years, we have come\n",
    "to realize that there is a linear relationship\n",
    "between the market price of the house and their area.\n",
    "We've also come to realize that there is a similar\n",
    "relationship between the price and the distance\n",
    "of the property from the city center.\n",
    "\n",
    "Let's say that we have a lot of data of various houses that\n",
    "we have sold over the years, and their areas and distance\n",
    "from the city center is available to us. So we make a table\n",
    "with that information.\n",
    "\n",
    "\n",
    "Real estate agent table:"
   ]
  },
  {
   "cell_type": "markdown",
   "metadata": {},
   "source": [
    "|Area|Distance|Price|\n",
    "|---|---|---|\n",
    "|70|3|21200|\n",
    "|50|1|22010|\n",
    "|120|9|24305|\n",
    "|100|2|31500|\n",
    "\n",
    "It is clear to us that the price is dependent on area\n",
    "and distance based on our experience. What we can do is write\n",
    "the relationship with a 2-variable linear equation:\n",
    "\n",
    "\n",
    "where:  \n",
    "- __y__ is the price.  \n",
    "- __b__ is some sort of intercept or bias\n",
    "- __w__ is the weight. We dont know yet what these values are.\n",
    "- __x1__ is the area.\n",
    "- __x2__ is the distance\n",
    "\n",
    "---\n",
    "$\n",
    "\\begin{equation}\n",
    "y = b + w_1.x_1 + w_2.x_2\n",
    "\\end{equation}\n",
    "$\n",
    "\n",
    "---\n",
    "We can also represent the equation in a vector form:\n",
    "\n",
    "---\n",
    "$\n",
    "\\begin{equation}\n",
    "y = b + (w_1 w_2).\\binom{x_1}{x_2}\n",
    "\\end{equation}\n",
    "$\n",
    "\n",
    "---\n",
    "Where\n",
    "$\n",
    "\\begin{equation}\n",
    "W = (w_1 w_2)\n",
    "\\end{equation}\n",
    "$\n",
    "and\n",
    "$\n",
    "\\begin{equation}\n",
    "X = \\binom{x_1}{x_2}\n",
    "\\end{equation}\n",
    "$\n",
    "\n",
    "We have a lot of observed data for Y and X,\n",
    "but we don't know the values for __b__ and __W__.\n",
    "Of course, the relationship may not even be linear, but that's the assumption that we are going to use here, that\n",
    "the mathematical model is a linear equation with two independent variables.\n",
    "\n",
    "#### Scenario  \n",
    "You're a savvy real estate agent. You realize that if you can find these values, you will have\n",
    "a good mathematical model, which will be able to predict market value for various houses\n",
    "if the area of the house and distance from the city center are known. In order to have the mathematical model,\n",
    "though, you need to find the values for __W__ and __b__ that best fit the data that you already have observed. So that's essentially what we do in linear regression. We find the optimal values for parameters w and b, that best fit\n",
    "the given data."
   ]
  },
  {
   "cell_type": "markdown",
   "metadata": {},
   "source": [
    "For the puprose of this project, we'll create a function that will gnerate the data for __W__ and __b__.\n",
    "\n",
    "Normally this would be observed data, but for our example, we will generate it ourselves and using\n",
    "some true values for __W__ and __b__.\n",
    "Then we will add some noise to it as well just to simulate observed data; something that fits a linear\n",
    "equation but not perfectly. It has some element of randomness and has some sort of noise to it as well."
   ]
  },
  {
   "cell_type": "code",
   "execution_count": 8,
   "metadata": {},
   "outputs": [],
   "source": [
    "def generate_examples(num=1000):\n",
    "    W = [1.0, -3.0] # our W is simply a vector. We are making it two dimensional similar to our example.\n",
    "    b = 1.0 # our b is simply a scaler value.\n",
    "    \n",
    "    # reshape W and set the shape new shape to 2 by 1 using numpy.\n",
    "    W = np.reshape(W, (2,1))\n",
    "    # the reason is that if we don't do this, what we will see is that W will have a shape of simply\n",
    "    # (2,), essentially representing a python list. But when we use vector computations later on, we want\n",
    "    # to explicitly set the the dimensions. So two for the number of elements that this W has\n",
    "    # and one is the total b elements in it.\n",
    "    \n",
    "    # gnerate random number for X; refers to the number of examples by two.\n",
    "    X = np.random.randn(num, 2) # Because we have x1 and x2 so that's that's the shape that we're going with.\n",
    "    \n",
    "    # let's calculate y and add some noise (random)\n",
    "    y = b + np.dot(X, W) + np.random.rand()\n",
    "    \n",
    "    # ensure that we explicitly set the dimensions\n",
    "    y = np.reshape(y, (num, 1)) \n",
    "    # 1 means we're adding a dimension here so that we don't get any errors later on as \n",
    "    # as we do more of metrics computations.\n",
    "    \n",
    "    #return X and y\n",
    "    return X, y"
   ]
  },
  {
   "cell_type": "markdown",
   "metadata": {},
   "source": [
    "Let's see if this works. Let's generate a set using generate_examples."
   ]
  },
  {
   "cell_type": "code",
   "execution_count": 9,
   "metadata": {},
   "outputs": [
    {
     "name": "stdout",
     "output_type": "stream",
     "text": [
      "(1000, 2) (1000, 1)\n"
     ]
    }
   ],
   "source": [
    "X, y = generate_examples()\n",
    "\n",
    "# take a look at the shape of X and y\n",
    "print(X.shape, y.shape)"
   ]
  },
  {
   "cell_type": "markdown",
   "metadata": {},
   "source": [
    "As expected, we have 1000 examples with two features or independent variables\n",
    "and 1000 examples and one dependent variable.\n",
    "\n",
    "\n",
    "Let's also quickly take a look at how the values look like. (Not that it's very important right now.)"
   ]
  },
  {
   "cell_type": "code",
   "execution_count": 10,
   "metadata": {},
   "outputs": [
    {
     "name": "stdout",
     "output_type": "stream",
     "text": [
      "[ 0.96134716 -1.00874313] [5.95172838]\n"
     ]
    }
   ],
   "source": [
    "print(X[0], y[0])"
   ]
  },
  {
   "cell_type": "markdown",
   "metadata": {},
   "source": [
    "We have basically a bunch of randomly generated numbers\n",
    "and whatever y value calculated for in those numbers."
   ]
  },
  {
   "cell_type": "markdown",
   "metadata": {},
   "source": [
    "So we understand what linear regression is to a degree, and we have a way to generate data for X and y.\n",
    "Now, how do we solve for parameters __W__ and __b__?"
   ]
  },
  {
   "cell_type": "markdown",
   "metadata": {},
   "source": [
    "### Task 3: Initialize Parameters"
   ]
  },
  {
   "cell_type": "markdown",
   "metadata": {},
   "source": [
    "We will find the values for parameters W and b by using gradient descent algorithm.\n",
    "\n",
    "We start by assigning some random values to parameters W\n",
    "and b. Then we calculate the Y value for those parameters\n",
    "for some X. This is our predicted value for y, for current values\n",
    "of the parameters. Then we compare this predicted value\n",
    "with the actual value that we have for that X.\n",
    "\n",
    "The loss over **m** examples:\n",
    "\n",
    "$\n",
    "\\begin{equation}\n",
    "J = \\frac{1}{2m} \\sum_{i=1}^{m} (y - \\hat{y})^2\n",
    "\\end{equation}\n",
    "$\n",
    "\n",
    "The difference between the prediction and the true value\n",
    "is called loss.\n",
    "There are various loss functions that can be used, but we\n",
    "will use mean squared error. Mean squared error can be represented something like this.\n",
    "\n",
    "Essentially, you're calculating a mean of the error between y and y prediction, also known as y hat, which read as error in squared. We're calculating the mean hence, means squared error.\n",
    "\n",
    "Now we're assuming that we have examples here, so we are just averaging the squared error for all the examples.\n",
    "\n",
    "The term 1/2m is not of great significance though, since this is a constant term. We can also call it one half mean squared because of the one half added to this loss.\n",
    "\n",
    "The objective of the gradient descent algorithm is to minimize this loss value.\n",
    "\n",
    "\n",
    "Gradient Descent Objective is to \n",
    "$\n",
    "\\begin{equation}\n",
    "min(J)\n",
    "\\end{equation}\n",
    "$"
   ]
  },
  {
   "cell_type": "code",
   "execution_count": 6,
   "metadata": {},
   "outputs": [],
   "source": [
    "# Let's first create a model with the parameters W and b\n",
    "class Model: # define a class and call it model\n",
    "    # instantiate it\n",
    "    def __init__(self, num_features): # pass the number of features which is the number of independent variables(2: 1 for area and 1 for city centers)\n",
    "        self.num_features = num_features\n",
    "        self.W = np.random.randn(num_features, 1) # the weight from our linear equation and initialize to np.random \n",
    "        self.b = np.random.randn()"
   ]
  },
  {
   "cell_type": "markdown",
   "metadata": {},
   "source": [
    "Of course, this is not our complete model. There's a lot of functionality to be added for creating\n",
    "a training loop and computing loss and everything that goes with the gradient descent algorithm.\n",
    "But this is just a starting point.\n",
    "\n",
    "Let's test it out."
   ]
  },
  {
   "cell_type": "code",
   "execution_count": 7,
   "metadata": {},
   "outputs": [
    {
     "name": "stdout",
     "output_type": "stream",
     "text": [
      "[[ 0.28644343]\n",
      " [-0.00223019]]\n",
      "1.426552412981412\n"
     ]
    }
   ],
   "source": [
    "model = Model(2)\n",
    "print(model.W)\n",
    "print(model.b)"
   ]
  },
  {
   "cell_type": "markdown",
   "metadata": {},
   "source": [
    "This looks to be in the shape that we talked about before.\n",
    "\n",
    "The values in the bottom is a scale of value.\n",
    "\n",
    "Now that we have the starting point, we have some random values for our parameters W and b, let's keep working on our model and implement\n",
    "the functionality required to perform optimization\n",
    "of these parameters with the help of gradient descent."
   ]
  },
  {
   "cell_type": "markdown",
   "metadata": {},
   "source": [
    "### Task 4: Forward Pass"
   ]
  },
  {
   "cell_type": "markdown",
   "metadata": {},
   "source": [
    "The gradient descent algorithm can be simplified in 4 steps:\n",
    "\n",
    "1. Get predictions y_hat for X with current values of W and b.\n",
    "2. Compute the loss between y and y_hat\n",
    "3. Find gradients of the loss with respect to parameters W and b\n",
    "4. Update the values of W and b by subtracting the gradient values obtained in the previous step\n",
    "\n",
    "Let's simplify our linear equation a bit more for an example:\n",
    "$\n",
    "\\begin{equation}\n",
    "y = wx\n",
    "\\end{equation}\n",
    "$\n",
    "\n",
    "Let's plot J as a function of w\n",
    "\n",
    "![Loss vs Param](JvsW.png)\n",
    "\n",
    "The gradients of loss with respect to w:\n",
    "\n",
    "\\begin{equation}\n",
    "\\frac{dJ}{dw} = \\frac{\\delta{J}}{\\delta{w}} = \\lim_{\\epsilon \\to 0} \\frac{J(w + \\epsilon) - J(w)}{\\epsilon}\n",
    "\\end{equation}"
   ]
  },
  {
   "cell_type": "code",
   "execution_count": 11,
   "metadata": {},
   "outputs": [],
   "source": [
    "# Now let's complete our model\n",
    "class Model(Model):\n",
    "    def forward_pass(self, X): # X in this could be a multidimensional but basically X is the set of inputs that we have\n",
    "        y_hat = self.b + np.dot(X, self.W)\n",
    "        return y_hat"
   ]
  },
  {
   "cell_type": "code",
   "execution_count": 12,
   "metadata": {},
   "outputs": [
    {
     "name": "stdout",
     "output_type": "stream",
     "text": [
      "(1000, 1)\n"
     ]
    }
   ],
   "source": [
    "# y_hat is teh frist step in our gradient descent algorithm\n",
    "# let's test it out and instantiate a model\n",
    "y_hat = Model(2).forward_pass(X)\n",
    "print(y_hat.shape)"
   ]
  },
  {
   "cell_type": "markdown",
   "metadata": {},
   "source": [
    "We have 1000 examples. Each example here for y-hat is a single\n",
    "value."
   ]
  },
  {
   "cell_type": "markdown",
   "metadata": {},
   "source": [
    "Let's take a look at one of them."
   ]
  },
  {
   "cell_type": "code",
   "execution_count": 13,
   "metadata": {},
   "outputs": [
    {
     "name": "stdout",
     "output_type": "stream",
     "text": [
      "(1000, 1) [-1.67931601]\n"
     ]
    }
   ],
   "source": [
    "print(y_hat.shape, y_hat[0])"
   ]
  },
  {
   "cell_type": "markdown",
   "metadata": {},
   "source": [
    "### Task 5: Compute Loss\n",
    "\n",
    "The loss over **m** examples:\n",
    "\n",
    "$\n",
    "\\begin{equation}\n",
    "J = \\frac{1}{2m} \\sum_{i=1}^{m} (y - \\hat{y})^2\n",
    "\\end{equation}\n",
    "$"
   ]
  },
  {
   "cell_type": "code",
   "execution_count": 14,
   "metadata": {},
   "outputs": [],
   "source": [
    "# extend our model class again. Add another function that will compute loss.\n",
    "class Model(Model):\n",
    "    def compute_loss(self, y_hat, y_true):\n",
    "        return np.sum(np.square(y_hat - y_true)) / (2*y_hat.shape[0]) # m is the nubmer of examples"
   ]
  },
  {
   "cell_type": "code",
   "execution_count": 15,
   "metadata": {},
   "outputs": [],
   "source": [
    "# calculate the loss for a model with 2 features\n",
    "model = Model(2)\n",
    "y_hat = model.forward_pass(X) #This will give us all the predictions for all the examples.\n",
    "loss = model.compute_loss(y_hat, y)"
   ]
  },
  {
   "cell_type": "markdown",
   "metadata": {},
   "source": [
    "Check for the loss."
   ]
  },
  {
   "cell_type": "code",
   "execution_count": 16,
   "metadata": {},
   "outputs": [
    {
     "data": {
      "text/plain": [
       "6.320634577393588"
      ]
     },
     "execution_count": 16,
     "metadata": {},
     "output_type": "execute_result"
    }
   ],
   "source": [
    "loss"
   ]
  },
  {
   "cell_type": "markdown",
   "metadata": {},
   "source": [
    "We have 6.3. If we run the whole notebook again, we may get a different value because the loss are randomize, the X is randomize.\n",
    "\n",
    "Great! We have a function that computes loss."
   ]
  },
  {
   "cell_type": "markdown",
   "metadata": {},
   "source": [
    "### Task 6: Backward Pass\n",
    "\n",
    "The gradient of loss with respect to bias can be calculated with:\n",
    "\n",
    "$\n",
    "\\begin{equation}\n",
    "\\frac{dJ}{db} = \\frac{1}{m} \\sum_{i=1}^{m} (\\hat{y^{(i)}} - y^{(i)})\n",
    "\\end{equation}\n",
    "$\n",
    "\n",
    "$\n",
    "\\begin{equation}\n",
    "\\frac{dJ}{dW_j} = \\frac{1}{m} \\sum_{i=1}^{m} (\\hat{y^{(i)}} - y^{(i)}).x_j^{(i)}\n",
    "\\end{equation}\n",
    "$"
   ]
  },
  {
   "cell_type": "markdown",
   "metadata": {},
   "source": [
    "When we use machine learning libraries like tensorflow,\n",
    "they do the backward pass automatically and give you\n",
    "the gradients for loss with respect to various parameters.\n",
    "\n",
    "They do it by using automatic differentiation.\n",
    "\n",
    "No, we are going to use just the formulas that are written\n",
    "here for gradients of loss with respect to __b__, and gradient\n",
    "of loss with respect to parameters \n",
    "__W__."
   ]
  },
  {
   "cell_type": "code",
   "execution_count": 17,
   "metadata": {},
   "outputs": [],
   "source": [
    "# extend our model class\n",
    "# So let's define a backward pass. We will need X, y-hat and y.\n",
    "class Model(Model):\n",
    "    def backward_pass(self, X, y_true, y_hat):\n",
    "        m = y_true.shape[0] #number of examples\n",
    "        db = (1/m)*np.sum(y_hat - y_true) # thegradient with respect to b\n",
    "        dW = (1/m)*np.sum(np.dot(np.transpose(y_hat - y_true), X), axis=0) #dW is the gradient for loss for with respect to W\n",
    "        return dW, db"
   ]
  },
  {
   "cell_type": "code",
   "execution_count": 18,
   "metadata": {},
   "outputs": [],
   "source": [
    "# let's test it out\n",
    "model = Model(2)\n",
    "\n",
    "X, y = generate_examples()\n",
    "y_hat = model.forward_pass(X)\n",
    "\n",
    "dW, db = model.backward_pass(X, y, y_hat)"
   ]
  },
  {
   "cell_type": "code",
   "execution_count": 20,
   "metadata": {},
   "outputs": [
    {
     "name": "stdout",
     "output_type": "stream",
     "text": [
      "[-2.40298073  5.15426648] -1.2337553161369823\n"
     ]
    }
   ],
   "source": [
    "print(dW, db)\n",
    "\n",
    "# if everything works correctly, then we should see that dW is going to be a list of just two numbers.\n",
    "# So one row and two columns; db is going to be a scalar."
   ]
  },
  {
   "cell_type": "markdown",
   "metadata": {},
   "source": [
    "And that's what we see."
   ]
  },
  {
   "cell_type": "markdown",
   "metadata": {},
   "source": [
    "### Task 7: Update Parameters"
   ]
  },
  {
   "cell_type": "code",
   "execution_count": 21,
   "metadata": {},
   "outputs": [],
   "source": [
    "# extend our model class\n",
    "# add functionality to update the parameter values\n",
    "# We will also need something called Learning Rate, or Alpha.\n",
    "class Model(Model):\n",
    "    def update_params(self, dW, db, lr):\n",
    "        self.W = self.W - lr * np.reshape(dW, (self.num_features, 1)) #dW needs to be reshaped.\n",
    "        self.b = self.b - db"
   ]
  },
  {
   "cell_type": "markdown",
   "metadata": {},
   "source": [
    "### Task 8: Training Loop"
   ]
  },
  {
   "cell_type": "code",
   "execution_count": 27,
   "metadata": {},
   "outputs": [],
   "source": [
    "# let's extend the model again\n",
    "class Model(Model):\n",
    "    def train(self, x_train, y_train, iterations, lr): # iterations means how many time gradient steps.\n",
    "        losses = [] # track our losses\n",
    "        for i in range(0, iterations):\n",
    "            y_hat = self.forward_pass(x_train)\n",
    "            loss = self.compute_loss(y_hat, y_train)\n",
    "            dW, db = self.backward_pass(x_train, y_train, y_hat)\n",
    "            #update the parameters\n",
    "            self.update_params(dW, db, lr)\n",
    "            #keep track of athe losses\n",
    "            losses.append(loss)\n",
    "            if i%int(iterations/10) == 0:\n",
    "            # if the iteration is 1/10 of total iterations,\n",
    "            # then we want to print out the loss value just so that we\n",
    "            # can see the training is going in the right direction or not.\n",
    "                print('Iter: {}, Loss: {:.4f}'.format(i, loss))\n",
    "        return losses"
   ]
  },
  {
   "cell_type": "code",
   "execution_count": 28,
   "metadata": {},
   "outputs": [],
   "source": [
    "model = Model(2)"
   ]
  },
  {
   "cell_type": "code",
   "execution_count": 29,
   "metadata": {},
   "outputs": [],
   "source": [
    "x_train, y_train = generate_examples()"
   ]
  },
  {
   "cell_type": "code",
   "execution_count": 30,
   "metadata": {
    "scrolled": true,
    "tags": []
   },
   "outputs": [
    {
     "name": "stdout",
     "output_type": "stream",
     "text": [
      "Iter: 0, Loss: 9.3290\n",
      "Iter: 100, Loss: 3.5795\n",
      "Iter: 200, Loss: 1.8848\n",
      "Iter: 300, Loss: 0.9925\n",
      "Iter: 400, Loss: 0.5226\n",
      "Iter: 500, Loss: 0.2752\n",
      "Iter: 600, Loss: 0.1449\n",
      "Iter: 700, Loss: 0.0763\n",
      "Iter: 800, Loss: 0.0402\n",
      "Iter: 900, Loss: 0.0212\n"
     ]
    }
   ],
   "source": [
    "losses = model.train(x_train, y_train, 1000, 3e-3)"
   ]
  },
  {
   "cell_type": "markdown",
   "metadata": {},
   "source": [
    "There we go. We start with 9.3 or so loss value, and then it decreases consistently, which is good, because it is what we want.\n",
    "\n",
    "So let's take a look at the losses."
   ]
  },
  {
   "cell_type": "code",
   "execution_count": 32,
   "metadata": {},
   "outputs": [
    {
     "data": {
      "image/png": "[encoded data removed]",
      "text/plain": [
       "<Figure size 432x288 with 1 Axes>"
      ]
     },
     "metadata": {
      "needs_background": "light"
     },
     "output_type": "display_data"
    }
   ],
   "source": [
    "plt.plot(losses);"
   ]
  },
  {
   "cell_type": "markdown",
   "metadata": {},
   "source": [
    "So as the training goes on, it reduces and gets pretty close to zero."
   ]
  },
  {
   "cell_type": "markdown",
   "metadata": {},
   "source": [
    "Now that we have a model trained on on our generated data, let's take a look at some of the predictions."
   ]
  },
  {
   "cell_type": "markdown",
   "metadata": {},
   "source": [
    "### Task 9: Predictions"
   ]
  },
  {
   "cell_type": "code",
   "execution_count": 33,
   "metadata": {},
   "outputs": [
    {
     "name": "stdout",
     "output_type": "stream",
     "text": [
      "(500, 2) (500, 1)\n"
     ]
    }
   ],
   "source": [
    "model_untrained = Model(2)\n",
    "\n",
    "x_test, y_test = generate_examples(500)\n",
    "print(x_test.shape, y_test.shape)"
   ]
  },
  {
   "cell_type": "code",
   "execution_count": 34,
   "metadata": {},
   "outputs": [],
   "source": [
    "# let's get predictions from the untrained model\n",
    "preds_untrained = model_untrained.forward_pass(x_test)\n",
    "preds_trained = model.forward_pass(x_test)"
   ]
  },
  {
   "cell_type": "markdown",
   "metadata": {},
   "source": [
    "Now to compare, let's create a pyplot figure."
   ]
  },
  {
   "cell_type": "code",
   "execution_count": 35,
   "metadata": {},
   "outputs": [
    {
     "data": {
      "image/png": "[encoded data removed]",
      "text/plain": [
       "<Figure size 432x432 with 1 Axes>"
      ]
     },
     "metadata": {
      "needs_background": "light"
     },
     "output_type": "display_data"
    }
   ],
   "source": [
    "plt.figure(figsize=(6, 6))\n",
    "plt.plot(preds_untrained, y_test, 'rx', label='Untrained')\n",
    "plt.plot(preds_trained, y_test, 'b.', label='Trained')\n",
    "plt.legend()\n",
    "plt.xlabel('Predictions')\n",
    "plt.ylabel('Ground Truth')\n",
    "plt.show()"
   ]
  },
  {
   "cell_type": "markdown",
   "metadata": {},
   "source": [
    "So the train model looks more like a straight line,\n",
    "and that is good.\n",
    "There is some deviation there, but more or less it's a straight line. That tells us that the ground\n",
    "truth and prediction for this model with the blue dots are very, very close to each other.\n",
    "That's why it's a It's a straight line.\n",
    "\n",
    "Whereas the predictions with the untrained model\n",
    "is not in a straight line.\n",
    "And even if it was a straight line, it's not at a 45 degree angle, so they are way off, basically.\n",
    "\n",
    "\n",
    "Now, if we want, we can run these three codes\n",
    "cells again to get some other untrained model and some with some other randomized values for W and B and then compare the predictions."
   ]
  },
  {
   "cell_type": "code",
   "execution_count": 36,
   "metadata": {},
   "outputs": [
    {
     "name": "stdout",
     "output_type": "stream",
     "text": [
      "(500, 2) (500, 1)\n"
     ]
    },
    {
     "data": {
      "image/png": "[encoded data removed]",
      "text/plain": [
       "<Figure size 432x432 with 1 Axes>"
      ]
     },
     "metadata": {
      "needs_background": "light"
     },
     "output_type": "display_data"
    }
   ],
   "source": [
    "model_untrained = Model(2)\n",
    "\n",
    "x_test, y_test = generate_examples(500)\n",
    "print(x_test.shape, y_test.shape)\n",
    "\n",
    "#get predictions from the untrained model\n",
    "preds_untrained = model_untrained.forward_pass(x_test)\n",
    "preds_trained = model.forward_pass(x_test)\n",
    "\n",
    "# plot\n",
    "plt.figure(figsize=(6, 6))\n",
    "plt.plot(preds_untrained, y_test, 'rx', label='Untrained')\n",
    "plt.plot(preds_trained, y_test, 'b.', label='Trained')\n",
    "plt.legend()\n",
    "plt.xlabel('Predictions')\n",
    "plt.ylabel('Ground Truth')\n",
    "plt.show()"
   ]
  },
  {
   "cell_type": "markdown",
   "metadata": {},
   "source": [
    "We'll observe a similar result that the read x's here, which is from the untrained model, they're completely\n",
    "random and they don't really make sense with the ground truth.\n",
    "\n",
    "Whereas the blue dots, they make sense. They're at a 45 degree angle. It's a straight line, and that means that they essentially match up with the ground truth."
   ]
  }
 ],
 "metadata": {
  "kernelspec": {
   "display_name": "Python 3 (ipykernel)",
   "language": "python",
   "name": "python3"
  },
  "language_info": {
   "codemirror_mode": {
    "name": "ipython",
    "version": 3
   },
   "file_extension": ".py",
   "mimetype": "text/x-python",
   "name": "python",
   "nbconvert_exporter": "python",
   "pygments_lexer": "ipython3",
   "version": "3.8.13"
  }
 },
 "nbformat": 4,
 "nbformat_minor": 4
}
